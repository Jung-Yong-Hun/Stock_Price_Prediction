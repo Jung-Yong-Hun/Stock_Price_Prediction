{
  "nbformat": 4,
  "nbformat_minor": 0,
  "metadata": {
    "interpreter": {
      "hash": "40d3a090f54c6569ab1632332b64b2c03c39dcf918b08424e98f38b5ae0af88f"
    },
    "kernelspec": {
      "display_name": "Python 3.8.8 64-bit ('base': conda)",
      "name": "python3"
    },
    "language_info": {
      "codemirror_mode": {
        "name": "ipython",
        "version": 3
      },
      "file_extension": ".py",
      "mimetype": "text/x-python",
      "name": "python",
      "nbconvert_exporter": "python",
      "pygments_lexer": "ipython3",
      "version": "3.8.8"
    },
    "orig_nbformat": 4,
    "colab": {
      "name": "Stochastic_RSI.ipynb",
      "provenance": [],
      "include_colab_link": true
    }
  },
  "cells": [
    {
      "cell_type": "markdown",
      "metadata": {
        "id": "view-in-github",
        "colab_type": "text"
      },
      "source": [
        "<a href=\"https://colab.research.google.com/github/jtoyhh/Stock_Price_Prediction/blob/main/Stochastic_RSI.ipynb\" target=\"_parent\"><img src=\"https://colab.research.google.com/assets/colab-badge.svg\" alt=\"Open In Colab\"/></a>"
      ]
    },
    {
      "cell_type": "code",
      "metadata": {
        "id": "bIt_ktRtIKGj"
      },
      "source": [
        "#Description : THis program uses the Stochastic Relative Strength Index (stochRSI) indicator and python to determine if an asset is over bought or over sold"
      ],
      "execution_count": null,
      "outputs": []
    },
    {
      "cell_type": "code",
      "metadata": {
        "id": "LorVqwDWIKGk"
      },
      "source": [
        "#import the libraries\n",
        "import numpy as np\n",
        "import pandas as pd\n",
        "import matplotlib.pyplot as plt"
      ],
      "execution_count": null,
      "outputs": []
    },
    {
      "cell_type": "code",
      "metadata": {
        "id": "0ccQ1gNYIKGl",
        "outputId": "b0a30d5c-4466-4066-f926-b8464947492a"
      },
      "source": [
        "#read the file\n",
        "df = pd.read_csv('./data/AAPL.csv')\n",
        "#set the date as the index\n",
        "df = df.set_index(pd.DatetimeIndex(df['Date'].values))\n",
        "#show the data\n",
        "df"
      ],
      "execution_count": null,
      "outputs": [
        {
          "data": {
            "text/html": [
              "<div>\n",
              "<style scoped>\n",
              "    .dataframe tbody tr th:only-of-type {\n",
              "        vertical-align: middle;\n",
              "    }\n",
              "\n",
              "    .dataframe tbody tr th {\n",
              "        vertical-align: top;\n",
              "    }\n",
              "\n",
              "    .dataframe thead th {\n",
              "        text-align: right;\n",
              "    }\n",
              "</style>\n",
              "<table border=\"1\" class=\"dataframe\">\n",
              "  <thead>\n",
              "    <tr style=\"text-align: right;\">\n",
              "      <th></th>\n",
              "      <th>Date</th>\n",
              "      <th>Open</th>\n",
              "      <th>High</th>\n",
              "      <th>Low</th>\n",
              "      <th>Close</th>\n",
              "      <th>Adj Close</th>\n",
              "      <th>Volume</th>\n",
              "    </tr>\n",
              "  </thead>\n",
              "  <tbody>\n",
              "    <tr>\n",
              "      <th>2020-11-05</th>\n",
              "      <td>2020-11-05</td>\n",
              "      <td>117.949997</td>\n",
              "      <td>119.620003</td>\n",
              "      <td>116.870003</td>\n",
              "      <td>119.029999</td>\n",
              "      <td>118.269310</td>\n",
              "      <td>126387100</td>\n",
              "    </tr>\n",
              "    <tr>\n",
              "      <th>2020-11-06</th>\n",
              "      <td>2020-11-06</td>\n",
              "      <td>118.320000</td>\n",
              "      <td>119.199997</td>\n",
              "      <td>116.129997</td>\n",
              "      <td>118.690002</td>\n",
              "      <td>118.134949</td>\n",
              "      <td>114457900</td>\n",
              "    </tr>\n",
              "    <tr>\n",
              "      <th>2020-11-09</th>\n",
              "      <td>2020-11-09</td>\n",
              "      <td>120.500000</td>\n",
              "      <td>121.989998</td>\n",
              "      <td>116.050003</td>\n",
              "      <td>116.320000</td>\n",
              "      <td>115.776031</td>\n",
              "      <td>154515300</td>\n",
              "    </tr>\n",
              "    <tr>\n",
              "      <th>2020-11-10</th>\n",
              "      <td>2020-11-10</td>\n",
              "      <td>115.550003</td>\n",
              "      <td>117.589996</td>\n",
              "      <td>114.129997</td>\n",
              "      <td>115.970001</td>\n",
              "      <td>115.427666</td>\n",
              "      <td>138023400</td>\n",
              "    </tr>\n",
              "    <tr>\n",
              "      <th>2020-11-11</th>\n",
              "      <td>2020-11-11</td>\n",
              "      <td>117.190002</td>\n",
              "      <td>119.629997</td>\n",
              "      <td>116.440002</td>\n",
              "      <td>119.489998</td>\n",
              "      <td>118.931198</td>\n",
              "      <td>112295000</td>\n",
              "    </tr>\n",
              "    <tr>\n",
              "      <th>...</th>\n",
              "      <td>...</td>\n",
              "      <td>...</td>\n",
              "      <td>...</td>\n",
              "      <td>...</td>\n",
              "      <td>...</td>\n",
              "      <td>...</td>\n",
              "      <td>...</td>\n",
              "    </tr>\n",
              "    <tr>\n",
              "      <th>2021-10-29</th>\n",
              "      <td>2021-10-29</td>\n",
              "      <td>147.220001</td>\n",
              "      <td>149.940002</td>\n",
              "      <td>146.410004</td>\n",
              "      <td>149.800003</td>\n",
              "      <td>149.800003</td>\n",
              "      <td>124850400</td>\n",
              "    </tr>\n",
              "    <tr>\n",
              "      <th>2021-11-01</th>\n",
              "      <td>2021-11-01</td>\n",
              "      <td>148.990005</td>\n",
              "      <td>149.699997</td>\n",
              "      <td>147.800003</td>\n",
              "      <td>148.960007</td>\n",
              "      <td>148.960007</td>\n",
              "      <td>74588300</td>\n",
              "    </tr>\n",
              "    <tr>\n",
              "      <th>2021-11-02</th>\n",
              "      <td>2021-11-02</td>\n",
              "      <td>148.660004</td>\n",
              "      <td>151.570007</td>\n",
              "      <td>148.649994</td>\n",
              "      <td>150.020004</td>\n",
              "      <td>150.020004</td>\n",
              "      <td>69122000</td>\n",
              "    </tr>\n",
              "    <tr>\n",
              "      <th>2021-11-03</th>\n",
              "      <td>2021-11-03</td>\n",
              "      <td>150.389999</td>\n",
              "      <td>151.970001</td>\n",
              "      <td>149.820007</td>\n",
              "      <td>151.490005</td>\n",
              "      <td>151.490005</td>\n",
              "      <td>54511500</td>\n",
              "    </tr>\n",
              "    <tr>\n",
              "      <th>2021-11-04</th>\n",
              "      <td>2021-11-04</td>\n",
              "      <td>151.580002</td>\n",
              "      <td>152.429993</td>\n",
              "      <td>150.639999</td>\n",
              "      <td>150.960007</td>\n",
              "      <td>150.960007</td>\n",
              "      <td>60278200</td>\n",
              "    </tr>\n",
              "  </tbody>\n",
              "</table>\n",
              "<p>252 rows × 7 columns</p>\n",
              "</div>"
            ],
            "text/plain": [
              "                  Date        Open        High         Low       Close  \\\n",
              "2020-11-05  2020-11-05  117.949997  119.620003  116.870003  119.029999   \n",
              "2020-11-06  2020-11-06  118.320000  119.199997  116.129997  118.690002   \n",
              "2020-11-09  2020-11-09  120.500000  121.989998  116.050003  116.320000   \n",
              "2020-11-10  2020-11-10  115.550003  117.589996  114.129997  115.970001   \n",
              "2020-11-11  2020-11-11  117.190002  119.629997  116.440002  119.489998   \n",
              "...                ...         ...         ...         ...         ...   \n",
              "2021-10-29  2021-10-29  147.220001  149.940002  146.410004  149.800003   \n",
              "2021-11-01  2021-11-01  148.990005  149.699997  147.800003  148.960007   \n",
              "2021-11-02  2021-11-02  148.660004  151.570007  148.649994  150.020004   \n",
              "2021-11-03  2021-11-03  150.389999  151.970001  149.820007  151.490005   \n",
              "2021-11-04  2021-11-04  151.580002  152.429993  150.639999  150.960007   \n",
              "\n",
              "             Adj Close     Volume  \n",
              "2020-11-05  118.269310  126387100  \n",
              "2020-11-06  118.134949  114457900  \n",
              "2020-11-09  115.776031  154515300  \n",
              "2020-11-10  115.427666  138023400  \n",
              "2020-11-11  118.931198  112295000  \n",
              "...                ...        ...  \n",
              "2021-10-29  149.800003  124850400  \n",
              "2021-11-01  148.960007   74588300  \n",
              "2021-11-02  150.020004   69122000  \n",
              "2021-11-03  151.490005   54511500  \n",
              "2021-11-04  150.960007   60278200  \n",
              "\n",
              "[252 rows x 7 columns]"
            ]
          },
          "execution_count": 15,
          "metadata": {},
          "output_type": "execute_result"
        }
      ]
    },
    {
      "cell_type": "code",
      "metadata": {
        "id": "1WJJy7WjIKGn"
      },
      "source": [
        "#Create a Exponential Moving Average indicator function\n",
        "def EMA(data, period=20, column='Close'):\n",
        "    return data[column].ewm(span=period, adjust=False).mean()"
      ],
      "execution_count": null,
      "outputs": []
    },
    {
      "cell_type": "code",
      "metadata": {
        "id": "5iSggEY6IKGn"
      },
      "source": [
        "#Create a function to calculate the Stochastic Relative Strength Index\n",
        "def StochRSI(data, period=14, column='Close'):\n",
        "    delta = data[column].diff(1)\n",
        "    delta = delta.dropna()\n",
        "    up = delta.copy()\n",
        "    down = delta.copy()\n",
        "    up[up<0] = 0\n",
        "    down[down>0] = 0\n",
        "    data['up'] = up\n",
        "    data['down'] = down\n",
        "    AVG_Gain = EMA(data, period, column='up')\n",
        "    AVG_Loss = abs( EMA(data, period, column='down') )\n",
        "    RS = AVG_Gain / AVG_Loss\n",
        "    RSI = 100.0 - (100.0/(1.0 + RS))\n",
        "\n",
        "    stockrsi = (RSI - RSI.rolling(period).min()) / (RSI.rolling(period).max() - RSI.rolling(period).min())\n",
        "\n",
        "    return stockrsi"
      ],
      "execution_count": null,
      "outputs": []
    },
    {
      "cell_type": "code",
      "metadata": {
        "id": "dyX6wiWpIKGo"
      },
      "source": [
        "#Storre the stochastic RSI data in a new column\n",
        "df['StochRSI'] = StochRSI(df)"
      ],
      "execution_count": null,
      "outputs": []
    },
    {
      "cell_type": "code",
      "metadata": {
        "id": "5UN2DyAGIKGo",
        "outputId": "fe5736eb-3eed-4bf2-f235-bcfa931568ba"
      },
      "source": [
        "#plot the data\n",
        "#create a figure and set of subplots\n",
        "fig, (ax1, ax2) = plt.subplots(nrows=2, sharex=True)\n",
        "#Remove the vertical gap between the subplots\n",
        "plt.subplots_adjust(hspace=.0)\n",
        "#Set grid lines\n",
        "ax1.grid()\n",
        "ax2.grid()\n",
        "#Plot the close price\n",
        "ax1.plot(df.index, df['Close'], color = 'r')\n",
        "#Plot the StochRSI\n",
        "ax2.plot(df.index, df['StochRSI'], color = 'b', linestyle='--')\n",
        "#Plot the oversold(0.2) and overbought (0.8) lines\n",
        "ax2.axhline(0.20, color='orange')\n",
        "ax2.axhline(0.80, color='orange')\n",
        "#Rotate the xticks by 45 degrees\n",
        "plt.xticks(rotation=45)"
      ],
      "execution_count": null,
      "outputs": [
        {
          "data": {
            "text/plain": [
              "(array([18567., 18628., 18687., 18748., 18809., 18871., 18932.]),\n",
              " [Text(0, 0, ''),\n",
              "  Text(0, 0, ''),\n",
              "  Text(0, 0, ''),\n",
              "  Text(0, 0, ''),\n",
              "  Text(0, 0, ''),\n",
              "  Text(0, 0, ''),\n",
              "  Text(0, 0, '')])"
            ]
          },
          "execution_count": 19,
          "metadata": {},
          "output_type": "execute_result"
        },
        {
          "data": {
            "image/png": "[encoded data removed]",
            "text/plain": [
              "<Figure size 432x288 with 2 Axes>"
            ]
          },
          "metadata": {
            "needs_background": "light"
          },
          "output_type": "display_data"
        }
      ]
    },
    {
      "cell_type": "code",
      "metadata": {
        "id": "UoWmPdUFIKGq"
      },
      "source": [
        ""
      ],
      "execution_count": null,
      "outputs": []
    }
  ]
}